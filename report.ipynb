{
 "cells": [
  {
   "cell_type": "code",
   "execution_count": 79,
   "metadata": {},
   "outputs": [],
   "source": [
    "import json\n",
    "from collections import defaultdict\n",
    "import pandas as pd"
   ]
  },
  {
   "cell_type": "code",
   "execution_count": 80,
   "metadata": {},
   "outputs": [
    {
     "name": "stdout",
     "output_type": "stream",
     "text": [
      "Candidate transactions:  89285\n",
      "Candidate addresses:  4777\n"
     ]
    }
   ],
   "source": [
    "df = pd.read_csv('candidate-transfer.csv')\n",
    "df['from'], df['to'], df['hash'] = df['from'].apply(lambda x: x[2:]), df['to'].apply(lambda x: x[2:]), df['hash'].apply(lambda x: x[2:])\n",
    "df['block_time'] = pd.to_datetime(df['block_time'])\n",
    "df = df.loc[df['block_time'] > pd.to_datetime('2021-01-01 15:47:18+00:00')]\n",
    "\n",
    "print(\"Candidate transactions: \", df.shape[0])\n",
    "candidate_address = set(df['to'].unique())\n",
    "print(\"Candidate addresses: \", len(candidate_address))"
   ]
  },
  {
   "cell_type": "code",
   "execution_count": 81,
   "metadata": {},
   "outputs": [
    {
     "data": {
      "text/plain": [
       "781cdc81cc8a315433bdc1c581a649c4c0d61ee7    32\n",
       "a822390152cb85db84613fde7676e0b36ebfb334    19\n",
       "c67f6fbd90806efcac2b7afbafb038afe4df5a0c    10\n",
       "9ab119f2017358dd33894fef1d20f870e3f70850     9\n",
       "6649a5d4ae7ac73f2f6b6baf3b722d8dcb281e33     9\n",
       "                                            ..\n",
       "318fb4d4de8def84b5b836ee57c0dbf87cf50f7d     1\n",
       "5f67b369e5155edc4270f1e2615b70dac41e93ca     1\n",
       "119976a1cfe7c109ef52ce3f74707ab574a526a7     1\n",
       "ba2dc20329b21370b91e1306b1c0b4c0ff9adbd5     1\n",
       "9633d229b711dcbf06cdd8739238765e0f3135b0     1\n",
       "Name: from, Length: 726, dtype: int64"
      ]
     },
     "execution_count": 81,
     "metadata": {},
     "output_type": "execute_result"
    }
   ],
   "source": [
    "# Filter the transactions whose \"from\" and \"to\" both interactived with Hop USDC Bridge\n",
    "df = df[df['from'].isin(candidate_address)]\n",
    "df = df.sort_values('block_time').drop_duplicates(('from', 'to'), keep='last')\n",
    "df['from'].value_counts()"
   ]
  },
  {
   "cell_type": "code",
   "execution_count": 99,
   "metadata": {},
   "outputs": [
    {
     "name": "stdout",
     "output_type": "stream",
     "text": [
      "0x781cdc81cc8a315433bdc1c581a649c4c0d61ee7\n",
      "0xa822390152cb85db84613fde7676e0b36ebfb334\n",
      "0xc67f6fbd90806efcac2b7afbafb038afe4df5a0c\n",
      "0x9ab119f2017358dd33894fef1d20f870e3f70850\n",
      "0x6649a5d4ae7ac73f2f6b6baf3b722d8dcb281e33\n",
      "0x1cb15998a75f4628a2bdcbd86a632a33d906c116\n",
      "0x74c3b2d22ed5990b9ab1f77bd3054d4fd4afcf96\n",
      "0x80a03dbf383c6fdd96fb95d1a24d63c7b6d02b08\n",
      "0x7da66c591bfc8d99291385b8221c69ab9b3e0f0e\n",
      "0x0359f194b3b801a1cce464eb8367a5a7b796a69d\n",
      "0x9520386ba02883e58075a4cf42e8bea4f5a1be88\n",
      "0x792a97fbe51ac086360021117f403954291ad332\n",
      "0xd9529704efb175ecdc7683a1e4d4ce80550c4019\n",
      "0x214ddd9a30d8328549814d84ccdf41fb5d8ec864\n",
      "0x32ca3698bc7707102a7e0da52a383f1c881d80d7\n",
      "0x036c1308b25fc70c3e6be413f5158bdf15e2770d\n",
      "0xad503b72fc36a699bf849bb2ed4c3db1967a73da\n",
      "0x11eb197cc9f186e7235f91aa14d0ae20df139a4a\n",
      "0x090f923e1484912285d07f7e643599b8ebf945ce\n",
      "0x26c1e466ce41070585d6876dc17b7bd9295c41d5\n",
      "0xa86271026a587c4beb528f46452f5c8375e2e95b\n",
      "0x9d9db1c6d79ee49c855081db0a273bcb303c0d02\n",
      "0x72bddbfdd873dc896db057a09586a2f3e19f4169\n",
      "0x4626751b194018b6848797ea3ea40a9252ee86ee\n",
      "0x2aa90cdc1e028c732ebea502e5e2cfadcf69043b\n",
      "0x0078049f1766f5ea41ff17d8e88499bcca46fd68\n",
      "0x109d0d2aee08485e786d5150951c5ee99e7ffc2e\n",
      "0xa5c3a513645a9a00cb561fed40438e9dfe0d6a69\n",
      "0x2a832c2731b3d972c95422a5ab20ca6cf0b63b8c\n",
      "0xe9822f18f2654e606a8dff9d75edd98367e7c0ae\n",
      "0x6b605c22a2b0ba16f5f6be47c2d4f6775e4e2dc1\n",
      "0x8f8b4759dc93ca55bd6997df719f20f581f10f5c\n",
      "0x3e0cf03f718520f30300266dcf4db50ba12d3331\n",
      "0x7e86d59a71189cce55f692b14ef4bed389ab2712\n",
      "0xd543a0be0684f0556786586b83f4c9fd16a4dc35\n",
      "0x4a2ff57467db1290cf32cf106c96987d5f4eca1a\n",
      "0xf0d3d14f241f7eea37d25ec44fb69cada7ab4079\n",
      "0x5b49e65fee97d267bca97e211435f5aee82a598a\n",
      "0xfefec7d3eb14a004029d278393e6ab8b46fb4fca\n",
      "0x63d4a56624a4b24dde2f7be35586ce637850010a\n",
      "0x7515d928c8d693f341b35164cb642c43c8a65a8c\n",
      "0xf67f2ca49e3cdd68aff98fea095edf1fd742c005\n",
      "0x29ff9cf03488c843e5ec55a5517ccddb849d1e98\n",
      "0x01ac668a8f8ed2322197c6e2943ca51b98d020bb\n",
      "0xf01b0ddebd3c22125ac691489a856d7e562ba534\n",
      "0xeae9c2a2c803becbc81f3a485a7cda9d03e33165\n",
      "0x5fb6e7e6cd299449a02fe47cccd5cb70ff9dc632\n",
      "0x257ee711b21ffc2884663e6583f67dcd630259f4\n",
      "0x3d4a7c1e22a2f201ce58bd67dd85ff2d8ffa450d\n",
      "0x71d8c525fea9ca23ed6882db1f868750e15f0ab0\n",
      "0x8c80c1fe10912398bf0fe68a25839defcaef588e\n",
      "0xb8f655dff9e8a10d9f532f710beb7fe1d79eadee\n",
      "0xaa60084b1170bce4b6aaa1c56c1aa5f3dca85923\n",
      "0x81efd4526dfdbbddfe306d04073fc6beff25a1e1\n",
      "0x1996b089948a32866853b656fd3199993e357dbb\n",
      "0x2010bb81d4762c0e53053a0bf57dccf19c6e1fe6\n",
      "0x267b319ad923c86ed4d02b8c30471317cdb325cf\n",
      "0x874fb8cc69dad1db6ba94cbb531f94801257cc11\n",
      "0x1c18182f7a9d59c1d45d83f9ed65e5cdb54638a5\n",
      "0x1e81abc800ec08572de0a27bb6c9ba69000003b1\n",
      "0xaef6d321e37785b6d81c80ae23e38378917e0cec\n",
      "0x84e4a385f34dea0641fe267c3baec035f662775f\n",
      "0x9b05dede25f6a1e13e324d0e4fd0b3e058ac6666\n",
      "0x3906e62fb8c9e53710cbaf533ac787b7179c5209\n",
      "0x4fd5e24932d1ff4e8f8e331302430219d510c300\n",
      "0x3cc0d06c6b06f7cf278a82effb9bb118ee86dbfd\n",
      "0xc049dd035e0171379fc608cef3260c1e6bceaaef\n"
     ]
    }
   ],
   "source": [
    "for i in df['from'].value_counts()[df['from'].value_counts()>2].index:\n",
    "    print('0x' + i)"
   ]
  },
  {
   "cell_type": "code",
   "execution_count": 94,
   "metadata": {},
   "outputs": [],
   "source": [
    "save_file = defaultdict(lambda: [0, []])\n",
    "\n",
    "for _, (from_address, to_address, _, tx_hash) in df.iterrows():\n",
    "    save_file[from_address][0] += 1\n",
    "    save_file[from_address][1].append((to_address, tx_hash))\n",
    "    \n",
    "save_file = dict(sorted(list(save_file.items()), key=lambda x: x[1][0], reverse=True))\n",
    "json.dump(save_file, open('report_address.json', 'w'), indent=2)"
   ]
  },
  {
   "cell_type": "code",
   "execution_count": null,
   "metadata": {},
   "outputs": [],
   "source": []
  },
  {
   "cell_type": "code",
   "execution_count": null,
   "metadata": {},
   "outputs": [],
   "source": []
  }
 ],
 "metadata": {
  "interpreter": {
   "hash": "907dce75b53d1f0ff409e4e59b779b14a98f445a872adfa366de671a96b6dc1e"
  },
  "kernelspec": {
   "display_name": "Python 3.9.7 ('base')",
   "language": "python",
   "name": "python3"
  },
  "language_info": {
   "codemirror_mode": {
    "name": "ipython",
    "version": 3
   },
   "file_extension": ".py",
   "mimetype": "text/x-python",
   "name": "python",
   "nbconvert_exporter": "python",
   "pygments_lexer": "ipython3",
   "version": "3.9.7"
  },
  "orig_nbformat": 4
 },
 "nbformat": 4,
 "nbformat_minor": 2
}
