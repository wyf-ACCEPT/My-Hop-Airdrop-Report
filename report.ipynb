{
 "cells": [
  {
   "cell_type": "code",
   "execution_count": 1,
   "metadata": {},
   "outputs": [],
   "source": [
    "import json\n",
    "from collections import defaultdict\n",
    "import pandas as pd"
   ]
  },
  {
   "cell_type": "code",
   "execution_count": 2,
   "metadata": {},
   "outputs": [
    {
     "name": "stdout",
     "output_type": "stream",
     "text": [
      "Candidate transactions:  89285\n",
      "Candidate addresses:  4777\n"
     ]
    }
   ],
   "source": [
    "df = pd.read_csv('candidate-transfer.csv')\n",
    "df['from'], df['to'], df['hash'] = df['from'].apply(lambda x: x[2:]), df['to'].apply(lambda x: x[2:]), df['hash'].apply(lambda x: x[2:])\n",
    "df['block_time'] = pd.to_datetime(df['block_time'])\n",
    "df = df.loc[df['block_time'] > pd.to_datetime('2021-01-01 15:47:18+00:00')]\n",
    "\n",
    "candidate_address = set(df['to'].unique())\n",
    "print(\"Candidate transactions: \", df.shape[0])\n",
    "print(\"Candidate addresses: \", len(candidate_address))"
   ]
  },
  {
   "cell_type": "code",
   "execution_count": 3,
   "metadata": {},
   "outputs": [
    {
     "data": {
      "text/plain": [
       "781cdc81cc8a315433bdc1c581a649c4c0d61ee7    32\n",
       "a822390152cb85db84613fde7676e0b36ebfb334    19\n",
       "c67f6fbd90806efcac2b7afbafb038afe4df5a0c    10\n",
       "9ab119f2017358dd33894fef1d20f870e3f70850     9\n",
       "6649a5d4ae7ac73f2f6b6baf3b722d8dcb281e33     9\n",
       "                                            ..\n",
       "318fb4d4de8def84b5b836ee57c0dbf87cf50f7d     1\n",
       "5f67b369e5155edc4270f1e2615b70dac41e93ca     1\n",
       "119976a1cfe7c109ef52ce3f74707ab574a526a7     1\n",
       "ba2dc20329b21370b91e1306b1c0b4c0ff9adbd5     1\n",
       "9633d229b711dcbf06cdd8739238765e0f3135b0     1\n",
       "Name: from, Length: 726, dtype: int64"
      ]
     },
     "execution_count": 3,
     "metadata": {},
     "output_type": "execute_result"
    }
   ],
   "source": [
    "# Selected the transactions whose \"from\" and \"to\" both interactived with Hop USDC Bridge\n",
    "df = df[df['from'].isin(candidate_address)]\n",
    "df = df.sort_values('block_time').drop_duplicates(('from', 'to'), keep='last')\n",
    "\n",
    "# The output [781cdc81cc8a315433bdc1c581a649c4c0d61ee7    32] means the address 0x781cdc81cc8a315433bdc1c581a649c4c0d61ee7 has transfered to his/her 32 child-addresses, and these 33 addresses all have interactived with Hop USDC Bridge!\n",
    "df['from'].value_counts()"
   ]
  },
  {
   "cell_type": "code",
   "execution_count": 4,
   "metadata": {},
   "outputs": [],
   "source": [
    "# Save the results to the json file.\n",
    "save_file = defaultdict(lambda: [0, []])\n",
    "\n",
    "for _, (from_address, to_address, _, tx_hash) in df.iterrows():\n",
    "    save_file[from_address][0] += 1\n",
    "    save_file[from_address][1].append((to_address, tx_hash))\n",
    "    \n",
    "save_file = dict(sorted(list(save_file.items()), key=lambda x: x[1][0], reverse=True))\n",
    "json.dump(save_file, open('report_address.json', 'w'), indent=2)"
   ]
  },
  {
   "cell_type": "code",
   "execution_count": null,
   "metadata": {},
   "outputs": [],
   "source": []
  }
 ],
 "metadata": {
  "interpreter": {
   "hash": "907dce75b53d1f0ff409e4e59b779b14a98f445a872adfa366de671a96b6dc1e"
  },
  "kernelspec": {
   "display_name": "Python 3.9.7 ('base')",
   "language": "python",
   "name": "python3"
  },
  "language_info": {
   "codemirror_mode": {
    "name": "ipython",
    "version": 3
   },
   "file_extension": ".py",
   "mimetype": "text/x-python",
   "name": "python",
   "nbconvert_exporter": "python",
   "pygments_lexer": "ipython3",
   "version": "3.9.7"
  },
  "orig_nbformat": 4
 },
 "nbformat": 4,
 "nbformat_minor": 2
}
